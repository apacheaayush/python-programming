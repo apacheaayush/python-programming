{
 "cells": [
  {
   "cell_type": "markdown",
   "metadata": {},
   "source": [
    "<h1>Problem Set 2: Python Data Structure I</h1>"
   ]
  },
  {
   "cell_type": "markdown",
   "metadata": {},
   "source": [
    "<h3>Question 1: Discuss string slicing and provide examples.</h3>"
   ]
  },
  {
   "cell_type": "markdown",
   "metadata": {},
   "source": [
    "String slicing allows you to access a part (substring) of a string using a range of indices. In Python, strings are indexed, and slicing is done using the syntax string[start:end:step].\n",
    "\n",
    "* start: Starting index of the slice (inclusive).\n",
    "* end: Ending index (exclusive).\n",
    "* step: Steps between indices."
   ]
  },
  {
   "cell_type": "code",
   "execution_count": 1,
   "metadata": {},
   "outputs": [
    {
     "name": "stdout",
     "output_type": "stream",
     "text": [
      "Hello\n",
      "World!\n",
      "Hlo ol!\n"
     ]
    }
   ],
   "source": [
    "text = \"Hello, World!\"\n",
    "\n",
    "# Slicing from index 0 to 5\n",
    "print(text[0:5])  # Output: Hello\n",
    "\n",
    "# Slicing from index 7 to the end\n",
    "print(text[7:])   # Output: World!\n",
    "\n",
    "# Slicing with step 2\n",
    "print(text[::2])  # Output: Hlo ol!"
   ]
  },
  {
   "cell_type": "code",
   "execution_count": 2,
   "metadata": {},
   "outputs": [
    {
     "name": "stdout",
     "output_type": "stream",
     "text": [
      "World!\n",
      "!dlroW ,olleH\n"
     ]
    }
   ],
   "source": [
    "# Negative Indexing\n",
    "\n",
    "print(text[-6:])   # Output: World!\n",
    "print(text[::-1])  # Output: !dlroW ,olleH (reverse string)"
   ]
  },
  {
   "cell_type": "markdown",
   "metadata": {},
   "source": [
    "<h3>Question 2: Explain the key features of lists in python.</h3>"
   ]
  },
  {
   "cell_type": "markdown",
   "metadata": {},
   "source": [
    "Lists in Python are mutable, ordered collections of items. They allow storing multiple data types (numbers, strings, other lists, etc.).\n",
    "\n",
    "Key Features:\n",
    "* Mutable: Lists can be modified after creation.\n",
    "* Ordered: Elements retain the order in which they are inserted.\n",
    "* Heterogeneous elements: Lists can contain different data types.\n",
    "* Dynamic: Lists can grow and shrink as needed."
   ]
  },
  {
   "cell_type": "code",
   "execution_count": 4,
   "metadata": {},
   "outputs": [
    {
     "name": "stdout",
     "output_type": "stream",
     "text": [
      "[1, 'apple', 3.14, [5, 6, 7]]\n"
     ]
    }
   ],
   "source": [
    "my_list = [1, \"apple\", 3.14, [5, 6, 7]]\n",
    "\n",
    "print(my_list)"
   ]
  },
  {
   "cell_type": "markdown",
   "metadata": {},
   "source": [
    "<h3>Question 3: Describe how to access, modify and delete items in a list with examples.</h3>"
   ]
  },
  {
   "cell_type": "markdown",
   "metadata": {},
   "source": [
    "Accessing Items:\n",
    "You can access items by index (starting from 0)."
   ]
  },
  {
   "cell_type": "code",
   "execution_count": 5,
   "metadata": {},
   "outputs": [
    {
     "name": "stdout",
     "output_type": "stream",
     "text": [
      "apple\n",
      "cherry\n"
     ]
    }
   ],
   "source": [
    "fruits = [\"apple\", \"banana\", \"cherry\"]\n",
    "\n",
    "# Accessing the first item\n",
    "print(fruits[0])  # Output: apple\n",
    "\n",
    "# Accessing the last item\n",
    "print(fruits[-1])  # Output: cherry"
   ]
  },
  {
   "cell_type": "markdown",
   "metadata": {},
   "source": [
    "Modifying Items:\n",
    "You can modify items by assigning new values to a specific index."
   ]
  },
  {
   "cell_type": "code",
   "execution_count": 6,
   "metadata": {},
   "outputs": [
    {
     "name": "stdout",
     "output_type": "stream",
     "text": [
      "['apple', 'blueberry', 'cherry']\n"
     ]
    }
   ],
   "source": [
    "fruits[1] = \"blueberry\"\n",
    "print(fruits)  # Output: ['apple', 'blueberry', 'cherry']"
   ]
  },
  {
   "cell_type": "markdown",
   "metadata": {},
   "source": [
    "Deleting Items:\n",
    "Use the del keyword, pop(), or remove() method to delete items."
   ]
  },
  {
   "cell_type": "code",
   "execution_count": 7,
   "metadata": {},
   "outputs": [
    {
     "name": "stdout",
     "output_type": "stream",
     "text": [
      "['apple', 'blueberry']\n",
      "['apple']\n",
      "[]\n"
     ]
    }
   ],
   "source": [
    "# Using del\n",
    "del fruits[2]\n",
    "print(fruits)  # Output: ['apple', 'blueberry']\n",
    "\n",
    "# Using pop() to remove the last item\n",
    "fruits.pop()\n",
    "print(fruits)  # Output: ['apple']\n",
    "\n",
    "# Using remove() to remove by value\n",
    "fruits.remove(\"apple\")\n",
    "print(fruits)  # Output: []"
   ]
  },
  {
   "cell_type": "markdown",
   "metadata": {},
   "source": [
    "<h3>Question 4: Compare and contrast tuples and list with examples.</h3>"
   ]
  },
  {
   "cell_type": "markdown",
   "metadata": {},
   "source": [
    "| Feature | \tList | \tTuple | \n",
    "| :---- | :----- | :------ | \n",
    "| Mutability | \tMutable (can modify elements) | \tImmutable (cannot modify elements) | \n",
    "| Syntax | \tCreated using square brackets [ ] | \tCreated using parentheses ( ) | \n",
    "| Performance | \tSlower due to mutability | \tFaster due to immutability | \n",
    "| Use Case | \tWhen data can change | \tWhen data should remain constant | "
   ]
  },
  {
   "cell_type": "code",
   "execution_count": 9,
   "metadata": {},
   "outputs": [
    {
     "name": "stdout",
     "output_type": "stream",
     "text": [
      "[1, 20, 3]\n"
     ]
    }
   ],
   "source": [
    "my_list = [1, 2, 3]\n",
    "my_tuple = (1, 2, 3)\n",
    "\n",
    "# List modification\n",
    "my_list[1] = 20\n",
    "print(my_list)  # Output: [1, 20, 3]\n",
    "\n",
    "# Tuple cannot be modified\n",
    "# my_tuple[1] = 20  # This will raise an error"
   ]
  },
  {
   "cell_type": "markdown",
   "metadata": {},
   "source": [
    "<h3>Question 5: Describe the key features of sets and provide examples of their use.</h3>"
   ]
  },
  {
   "cell_type": "markdown",
   "metadata": {},
   "source": [
    "Sets are unordered, mutable collections of unique elements in Python. They are useful when you need to store distinct items and perform operations like union, intersection, and difference.\n",
    "\n",
    "Key Features:\n",
    "* Unordered: No particular order is maintained.\n",
    "* Unique Elements: Duplicates are not allowed.\n",
    "* Mutable: You can add or remove elements."
   ]
  },
  {
   "cell_type": "code",
   "execution_count": 10,
   "metadata": {},
   "outputs": [
    {
     "name": "stdout",
     "output_type": "stream",
     "text": [
      "{1, 2, 3, 4}\n"
     ]
    }
   ],
   "source": [
    "my_set = {1, 2, 3, 4, 2, 3}\n",
    "print(my_set)  # Output: {1, 2, 3, 4} (duplicates removed)"
   ]
  },
  {
   "cell_type": "markdown",
   "metadata": {},
   "source": [
    "<h3>Question 6: Discuss the use case of tuples and sets in python programming.</h3>"
   ]
  },
  {
   "cell_type": "markdown",
   "metadata": {},
   "source": [
    "Use Case of Tuples:\n",
    "\n",
    "Immutability: Tuples are used when the data should remain constant, e.g., representing geographic coordinates, fixed configurations, or returning multiple values from functions."
   ]
  },
  {
   "cell_type": "code",
   "execution_count": 11,
   "metadata": {},
   "outputs": [],
   "source": [
    "coordinates = (10.0, 20.0)  # Fixed coordinates"
   ]
  },
  {
   "cell_type": "markdown",
   "metadata": {},
   "source": [
    "Use Case of Sets:\n",
    "\n",
    "\n",
    "Unique and unordered data: Sets are used when you need to remove duplicates or perform operations like union, intersection, or difference."
   ]
  },
  {
   "cell_type": "code",
   "execution_count": 12,
   "metadata": {},
   "outputs": [
    {
     "name": "stdout",
     "output_type": "stream",
     "text": [
      "{3}\n",
      "{1, 2, 3, 4, 5}\n"
     ]
    }
   ],
   "source": [
    "set_a = {1, 2, 3}\n",
    "set_b = {3, 4, 5}\n",
    "\n",
    "# Intersection\n",
    "print(set_a & set_b)  # Output: {3}\n",
    "\n",
    "# Union\n",
    "print(set_a | set_b)  # Output: {1, 2, 3, 4, 5}"
   ]
  },
  {
   "cell_type": "markdown",
   "metadata": {},
   "source": [
    "<h3>Question 7: Discuss how to add, modify and delete items in a dictionary with examples.</h3>"
   ]
  },
  {
   "cell_type": "markdown",
   "metadata": {},
   "source": [
    "A dictionary is a collection of key-value pairs in Python, where keys must be unique and immutable."
   ]
  },
  {
   "cell_type": "markdown",
   "metadata": {},
   "source": [
    "Adding Items:\n",
    "\n",
    "You can add a new key-value pair by assigning it."
   ]
  },
  {
   "cell_type": "code",
   "execution_count": 13,
   "metadata": {},
   "outputs": [
    {
     "name": "stdout",
     "output_type": "stream",
     "text": [
      "{'name': 'Alice', 'age': 25, 'city': 'New York'}\n"
     ]
    }
   ],
   "source": [
    "my_dict = {'name': 'Alice', 'age': 25}\n",
    "my_dict['city'] = 'New York'\n",
    "print(my_dict)  # Output: {'name': 'Alice', 'age': 25, 'city': 'New York'}"
   ]
  },
  {
   "cell_type": "markdown",
   "metadata": {},
   "source": [
    "Modifying Items:\n",
    "\n",
    "To modify a value, assign a new value to an existing key."
   ]
  },
  {
   "cell_type": "code",
   "execution_count": 14,
   "metadata": {},
   "outputs": [
    {
     "name": "stdout",
     "output_type": "stream",
     "text": [
      "{'name': 'Alice', 'age': 30, 'city': 'New York'}\n"
     ]
    }
   ],
   "source": [
    "my_dict['age'] = 30\n",
    "print(my_dict)  # Output: {'name': 'Alice', 'age': 30, 'city': 'New York'}"
   ]
  },
  {
   "cell_type": "markdown",
   "metadata": {},
   "source": [
    "Deleting Items:\n",
    "\n",
    "Use the del keyword or pop() method to delete items."
   ]
  },
  {
   "cell_type": "code",
   "execution_count": 15,
   "metadata": {},
   "outputs": [
    {
     "name": "stdout",
     "output_type": "stream",
     "text": [
      "{'name': 'Alice', 'age': 30}\n",
      "{'name': 'Alice'}\n"
     ]
    }
   ],
   "source": [
    "# Using del\n",
    "del my_dict['city']\n",
    "print(my_dict)  # Output: {'name': 'Alice', 'age': 30}\n",
    "\n",
    "# Using pop()\n",
    "my_dict.pop('age')\n",
    "print(my_dict)  # Output: {'name': 'Alice'}"
   ]
  },
  {
   "cell_type": "markdown",
   "metadata": {},
   "source": [
    "<h3>Question 8: Discuss the importance of dictionary keys being immutable and provide examples. </h3>"
   ]
  },
  {
   "cell_type": "markdown",
   "metadata": {},
   "source": [
    "Importance of Dictionary Keys Being Immutable\n",
    "\n",
    "In Python, dictionary keys must be immutable types like strings, numbers, or tuples (with only immutable elements) because the dictionary relies on the hash value of the key to store and retrieve values efficiently. If a key is mutable and its value changes, the dictionary would not be able to guarantee the correct retrieval of the associated value."
   ]
  },
  {
   "cell_type": "code",
   "execution_count": 16,
   "metadata": {},
   "outputs": [],
   "source": [
    "# Immutable key\n",
    "my_dict = {(1, 2): \"Point\"}  # A tuple as a key (immutable)"
   ]
  },
  {
   "cell_type": "code",
   "execution_count": 17,
   "metadata": {},
   "outputs": [],
   "source": [
    "# Trying to use a list as a key (mutable)\n",
    "# my_dict = {[1, 2]: \"Point\"}  # This will raise a TypeError"
   ]
  },
  {
   "cell_type": "markdown",
   "metadata": {},
   "source": [
    "Using mutable objects like lists as dictionary keys would lead to errors because the list can change, affecting the key's hash value and thus breaking the dictionary's internal lookup mechanisms."
   ]
  },
  {
   "cell_type": "markdown",
   "metadata": {},
   "source": [
    "Conclusion\n",
    "\n",
    "* String slicing lets you extract substrings using indices.\n",
    "* Lists are mutable, ordered collections used when you need to modify data.\n",
    "* Tuples are immutable, making them suitable for storing constant data.\n",
    "* Sets are useful for storing unique items and performing mathematical set operations.\n",
    "* Dictionaries store key-value pairs, and keys must be immutable to ensure correct data retrieval.\n",
    "\n",
    "These data structures are fundamental to Python programming and serve different purposes depending on the requirements of your program."
   ]
  }
 ],
 "metadata": {
  "kernelspec": {
   "display_name": "Python 3",
   "language": "python",
   "name": "python3"
  },
  "language_info": {
   "codemirror_mode": {
    "name": "ipython",
    "version": 3
   },
   "file_extension": ".py",
   "mimetype": "text/x-python",
   "name": "python",
   "nbconvert_exporter": "python",
   "pygments_lexer": "ipython3",
   "version": "3.12.5"
  }
 },
 "nbformat": 4,
 "nbformat_minor": 2
}
