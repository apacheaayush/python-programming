{
 "cells": [
  {
   "cell_type": "markdown",
   "metadata": {},
   "source": [
    "<h3> Question 1: Explain the key features of Python that make it a popular choice for programming. </h3>"
   ]
  },
  {
   "cell_type": "markdown",
   "metadata": {},
   "source": [
    "Python has become a popular programming language for a variety of reasons, particularly due to its versatility, simplicity, and  powerful capabilities. \n",
    "Here are the key features that contribute to Python's popularity:\n",
    "\n",
    "1. Readability and Simplicity <br>\n",
    "Python's syntax is clean and easy to understand, which makes it an excellent choice for beginners as well as experienced developers. Its code structure resembles natural language, making it easier to read and write.\n",
    "\n",
    "2. Extensive Libraries and Frameworks <br>\n",
    "Python has a rich ecosystem of libraries and frameworks, including tools for data science (e.g., NumPy, Pandas, Scikit-learn), web development (Django, Flask), machine learning (TensorFlow, PyTorch), and automation (Selenium, BeautifulSoup), which allow developers to perform complex tasks with minimal effort.\n",
    "\n",
    "3. Cross-Platform Compatibility <br>\n",
    "Python is a cross-platform language, meaning that it can run on various operating systems (Windows, macOS, Linux) without needing any changes to the code. This flexibility makes it ideal for a wide range of applications.\n",
    "\n",
    "4. Dynamic Typing and Interpreted Language <br>\n",
    "Python is dynamically typed, which means you don't need to declare variable types. It is also interpreted, meaning code is executed line-by-line, making debugging easier.\n",
    "\n",
    "5. Large Community and Support <br>\n",
    "Python has a huge and active community, which contributes to a wealth of tutorials, documentation, and third-party packages. The Python Package Index (PyPI) hosts thousands of libraries, and the community offers extensive support for learning and problem-solving.\n",
    "\n",
    "6. Versatility <br>\n",
    "Python is a multi-paradigm language that supports procedural, object-oriented, and functional programming styles. This makes it suitable for diverse tasks such as web development, data analysis, automation, scientific computing, artificial intelligence, and more.\n",
    "\n",
    "7. Integration Capabilities <br>\n",
    "Python can easily integrate with other languages like C, C++, and Java. It also supports APIs and external services, making it highly interoperable for building complex applications and systems.\n",
    "\n",
    "8. Automation and Scripting <br>\n",
    "Python is widely used for automation due to its simple syntax and wide range of modules for scripting tasks, such as file handling, web scraping, and task automation.\n",
    "\n",
    "9. Strong Support for Data Science and AI <br>\n",
    "Python is the language of choice for data science, artificial intelligence, and machine learning, owing to its powerful libraries like NumPy, Pandas, Matplotlib, Scikit-learn, TensorFlow, and Keras. It is extensively used for statistical analysis, data visualization, and model building.\n",
    "\n",
    "10. Robust Developer Tools <br>\n",
    "Python provides excellent tools for testing, debugging, and profiling, such as PyTest, PDB (Python Debugger), and Jupyter Notebooks for interactive development.\n",
    "These features collectively make Python one of the most versatile and widely adopted languages in the world today, suitable for both beginners and professionals in various fields."
   ]
  },
  {
   "cell_type": "markdown",
   "metadata": {},
   "source": [
    "<h3> Question 2: Describe the role of predefined keywords in Python and provide examples of how they are used in a program. </h3>"
   ]
  },
  {
   "cell_type": "markdown",
   "metadata": {},
   "source": [
    "In Python, predefined keywords (also known as reserved words) are words that have special meanings and specific functions within the language. These keywords are part of Python’s syntax and cannot be used as identifiers (like variable names, function names, or other user-defined items). They help define the structure and flow of the program, making Python code more readable and structured.\n",
    "\n",
    "Role of Predefined Keywords:<br>\n",
    "* Control Flow: Keywords like if, else, elif, for, while, and break manage the flow of control in loops and conditional statements.\n",
    "* Defining Functions and Classes: Keywords like def and class are used to define functions and classes, respectively.\n",
    "* Error Handling: Keywords like try, except, finally, and raise handle exceptions and errors in Python code.\n",
    "* Logical and Boolean Operations: Keywords like and, or, not, True, and False perform logical operations and represent Boolean values.\n",
    "* Managing Scope: Keywords like global, nonlocal, return, and yield manage variable scope and function returns.\n",
    "* Memory Management: Keywords like del help with memory management by deleting references to objects.\n",
    "\n",
    "\n",
    "Example Keywords and Their Use:<br>\n",
    "Below are examples of some commonly used Python keywords in a simple Python program:"
   ]
  },
  {
   "cell_type": "code",
   "execution_count": null,
   "metadata": {},
   "outputs": [],
   "source": [
    "# Example: Program to check if a number is even or odd using keywords\n",
    "\n",
    "def check_number(num):   # 'def' defines a function\n",
    "    if num % 2 == 0:     # 'if' checks a condition\n",
    "        return True      # 'return' sends back a value\n",
    "    else:\n",
    "        return False     # 'else' specifies alternative behavior\n",
    "\n",
    "# Main program\n",
    "number = 10\n",
    "\n",
    "if check_number(number):  # 'if' controls the flow based on the function's output\n",
    "    print(f\"{number} is even.\")\n",
    "else:\n",
    "    print(f\"{number} is odd.\")"
   ]
  },
  {
   "cell_type": "markdown",
   "metadata": {},
   "source": [
    "<h3>Question 3: Compare and contrast mutable and immutable objects in Python with examples</h3>"
   ]
  },
  {
   "cell_type": "markdown",
   "metadata": {},
   "source": [
    "In Python, mutable and immutable objects refer to whether or not the object’s state or value can be changed after it has been created. Understanding this distinction is crucial for working with data structures efficiently and writing bug-free code.\n",
    "\n",
    "Key Differences Between Mutable and Immutable Objects:<br>\n",
    "| Feature              | Mutable Objects | Immutable Objects |\n",
    "| :---------------- | :------ | :---- |\n",
    "| Definition        | Can be changed after creation   | Cannot be changed once created. |\n",
    "| Examples        | Lists, dictionaries, sets, user-defined classes   | Strings, tuples, integers, floats, Booleans |\n",
    "| Modification        | You can change the internal data.   | Any attempt to change creates a new object. |\n",
    "| Memory        | Same object in memory after modification.   | New object in memory after modification. |\n",
    "| Performance        | Generally slower for certain operations due to in-place modifications.   | Faster for certain operations, but less flexible due to immutability. |\n"
   ]
  },
  {
   "cell_type": "code",
   "execution_count": 1,
   "metadata": {},
   "outputs": [
    {
     "name": "stdout",
     "output_type": "stream",
     "text": [
      "Original List: [1, 2, 3]\n",
      "Modified List: [1, 2, 3, 4]\n"
     ]
    }
   ],
   "source": [
    "# Example: Lists (Mutable)\n",
    "\n",
    "my_list = [1, 2, 3]  # List is mutable\n",
    "print(\"Original List:\", my_list)\n",
    "\n",
    "# Modifying the list\n",
    "my_list.append(4)\n",
    "print(\"Modified List:\", my_list)"
   ]
  },
  {
   "cell_type": "code",
   "execution_count": 2,
   "metadata": {},
   "outputs": [
    {
     "name": "stdout",
     "output_type": "stream",
     "text": [
      "Original String: hello\n",
      "Modified String: hello world\n"
     ]
    }
   ],
   "source": [
    "# Example: Strings (Immutable)\n",
    "\n",
    "my_string = \"hello\"  # String is immutable\n",
    "print(\"Original String:\", my_string)\n",
    "\n",
    "# Trying to modify the string\n",
    "new_string = my_string + \" world\"\n",
    "print(\"Modified String:\", new_string)\n",
    "\n",
    "# In this example, strings in Python are immutable. \n",
    "# When we concatenate \" world\" to my_string, it does not change the original string but instead creates a new string new_string. \n",
    "# The original string remains unchanged, and a new object in memory is created for new_string."
   ]
  },
  {
   "cell_type": "markdown",
   "metadata": {},
   "source": [
    "<h3>Question 4: Discuss the different types of operators in Python and provide examples of how they are used.</h3>"
   ]
  },
  {
   "cell_type": "markdown",
   "metadata": {},
   "source": [
    "In Python, operators are special symbols or keywords that perform operations on operands (values or variables). Python has various types of operators, each serving different purposes. These operators can be grouped into several categories:"
   ]
  },
  {
   "cell_type": "markdown",
   "metadata": {},
   "source": [
    "<b>1. Arithmetic Operators</b><br>\n",
    "\n",
    "Arithmetic operators are used to perform basic mathematical operations like addition, subtraction, multiplication, division, etc.\n",
    "\n",
    "\n",
    "| Operator | Description | Example |\n",
    "| :---------------- | :------ | :---- |\n",
    "| + |\tAddition  |\t5 + 2 = 7 |\n",
    "| - |\tSubtraction\t | 5 - 2 = 3 |\n",
    "| * |\tMultiplication  |\t5 * 2 = 10 |\n",
    "| / |\tDivision  | 5 / 2 = 2.5 |\n",
    "| % |\tModulus (remainder)\t | 5 % 2 = 1 |\n",
    "| ** |\tExponentiation  |\t5 ** 2 = 25 |\n",
    "| // |\tFloor Division\t | 5 // 2 = 2 |"
   ]
  },
  {
   "cell_type": "code",
   "execution_count": 4,
   "metadata": {},
   "outputs": [
    {
     "name": "stdout",
     "output_type": "stream",
     "text": [
      "13\n",
      "1\n"
     ]
    }
   ],
   "source": [
    "a = 10\n",
    "b = 3\n",
    "print(a + b)  # Output: 13\n",
    "print(a % b)  # Output: 1"
   ]
  },
  {
   "cell_type": "markdown",
   "metadata": {},
   "source": [
    "<b>2. Comparison (Relational) Operators</b>\n",
    "\n",
    "Comparison operators compare two values and return a Boolean result.\n",
    "\n",
    "| Operator | Description | Example |\n",
    "| :-------- | :----------- | :--------- | \n",
    "| == | Equal to\t| 5 == 2 | \n",
    "| != | Not equal to\t| 5 != 2 | \n",
    "| >\t| Greater than\t5 |  > 2 | \n",
    "| <\t| Less than\t| 5 < 2 |\n",
    "| >= | Greater than or equal to | >= 2 | \n",
    "| <= | Less than or equal to | 5 <= 2 | "
   ]
  },
  {
   "cell_type": "code",
   "execution_count": 5,
   "metadata": {},
   "outputs": [
    {
     "name": "stdout",
     "output_type": "stream",
     "text": [
      "False\n",
      "True\n"
     ]
    }
   ],
   "source": [
    "x = 7\n",
    "y = 10\n",
    "print(x > y)  # Output: False\n",
    "print(x != y)  # Output: True"
   ]
  },
  {
   "cell_type": "markdown",
   "metadata": {},
   "source": [
    "3. Logical Operators\n",
    "\n",
    "Logical operators are used to combine multiple conditions.\n",
    "\n",
    "| Operator | Description | Example  |\n",
    "| :-------- | :----------| :-------|\n",
    "| and |\tLogical AND |\t(5 > 2) and (3 > 1) |\n",
    "| or |\tLogical OR |\t(5 > 2) or (3 < 1) |\n",
    "| not |\tLogical NOT\t| not(5 > 2) |"
   ]
  },
  {
   "cell_type": "code",
   "execution_count": 6,
   "metadata": {},
   "outputs": [
    {
     "name": "stdout",
     "output_type": "stream",
     "text": [
      "True\n",
      "True\n"
     ]
    }
   ],
   "source": [
    "x = 5\n",
    "y = 10\n",
    "print(x > 0 and y > 0)  # Output: True\n",
    "print(not(x == y))      # Output: True"
   ]
  },
  {
   "cell_type": "markdown",
   "metadata": {},
   "source": [
    "4. Assignment Operators\n",
    "\n",
    "Assignment operators assign values to variables and can be combined with arithmetic operations.\n",
    "\n",
    "| Operator | Description |\tExample |\n",
    "| :-------| :---------| :--------|\n",
    "| = |\tAssign |\tx = 5 | \n",
    "| += | \tAdd and assign\t| x += 3 (same as x = x + 3) | \n",
    "| -= | \tSubtract and assign\t| x -= 3 | \n",
    "| *= | \tMultiply and assign\t| x *= 3 | \n",
    "| /= | \tDivide and assign\t| x /= 3 | \n",
    "| //= | \tFloor divide and assign\t| x //= 3 | \n",
    "| %= | \tModulus and assign\t| x %= 3 | \n",
    "| **= | \tExponentiation and assign | \tx **= 3 | "
   ]
  },
  {
   "cell_type": "code",
   "execution_count": 7,
   "metadata": {},
   "outputs": [
    {
     "name": "stdout",
     "output_type": "stream",
     "text": [
      "8\n"
     ]
    }
   ],
   "source": [
    "x = 5\n",
    "x += 3  # Same as x = x + 3\n",
    "print(x)  # Output: 8"
   ]
  },
  {
   "cell_type": "markdown",
   "metadata": {},
   "source": [
    "5. Bitwise Operators\n",
    "\n",
    "Bitwise operators work on bits and perform operations on binary numbers.\n",
    "\n",
    "| Operator | \tDescription\t | Example| \n",
    "| :------ | :-----| :------| \n",
    "| &\t| Bitwise AND\t| 5 & 3 (binary: 101 & 011) | \n",
    "| `\t| ` |  \tBitwise OR | \n",
    "| ^\t| Bitwise XOR | \t5 ^ 3 | \n",
    "| ~\t| Bitwise NOT | \t~5 | \n",
    "| <<\t| Left Shift | \t5 << 1 | \n",
    "| >> | \tRight Shift\t| 5 >> 1 | "
   ]
  },
  {
   "cell_type": "code",
   "execution_count": 8,
   "metadata": {},
   "outputs": [
    {
     "name": "stdout",
     "output_type": "stream",
     "text": [
      "2\n"
     ]
    }
   ],
   "source": [
    "x = 6  # binary 110\n",
    "y = 3  # binary 011\n",
    "print(x & y)  # Output: 2 (binary 010)"
   ]
  },
  {
   "cell_type": "markdown",
   "metadata": {},
   "source": [
    "6. Identity Operators\n",
    "\n",
    "Identity operators compare the memory location of two objects.\n",
    "\n",
    "| Operator| \tDescription| \tExample| \n",
    "| :---| :---| :---| \n",
    "| is | \tReturns True if both variables point to the same object | \tx is y | \n",
    "| is not | \tReturns True if variables point to different objects | \tx is not y | "
   ]
  },
  {
   "cell_type": "code",
   "execution_count": 9,
   "metadata": {},
   "outputs": [
    {
     "name": "stdout",
     "output_type": "stream",
     "text": [
      "True\n",
      "False\n"
     ]
    }
   ],
   "source": [
    "x = [1, 2, 3]\n",
    "y = x\n",
    "z = [1, 2, 3]\n",
    "\n",
    "print(x is y)  # Output: True\n",
    "print(x is z)  # Output: False"
   ]
  },
  {
   "cell_type": "markdown",
   "metadata": {},
   "source": [
    "7. Membership Operators\n",
    "\n",
    "Membership operators test for membership in a sequence, such as strings, lists, or tuples.\n",
    "\n",
    "| Operator | \tDescription | \tExample | \n",
    "|  :----- | :----- | :----- | \n",
    "| in | \tReturns True if the value is found in the sequence | \ta in 'apple' | \n",
    "| not in | \tReturns True if the value is not found in the sequence | \tb not in 'apple' | "
   ]
  },
  {
   "cell_type": "code",
   "execution_count": 11,
   "metadata": {},
   "outputs": [
    {
     "name": "stdout",
     "output_type": "stream",
     "text": [
      "True\n",
      "True\n"
     ]
    }
   ],
   "source": [
    "x = [1, 2, 3]\n",
    "print(2 in x)      # Output: True\n",
    "print(4 not in x)  # Output: True\n"
   ]
  },
  {
   "cell_type": "markdown",
   "metadata": {},
   "source": [
    "8. Ternary (Conditional) Operator\n",
    "\n",
    "Ternary operators offer a concise way to write simple if-else conditions.\n",
    "\n",
    "| Operator | \tDescription | \tExample | \n",
    "| :--- | :--- | :----| \n",
    "| x if condition else y| \tReturns x if condition is true, else returns y | \tresult = \"Even\" if x % 2 == 0 else \"Odd\"| "
   ]
  },
  {
   "cell_type": "code",
   "execution_count": 12,
   "metadata": {},
   "outputs": [
    {
     "name": "stdout",
     "output_type": "stream",
     "text": [
      "Even\n"
     ]
    }
   ],
   "source": [
    "x = 10\n",
    "result = \"Even\" if x % 2 == 0 else \"Odd\"\n",
    "print(result)  # Output: Even"
   ]
  },
  {
   "cell_type": "markdown",
   "metadata": {},
   "source": [
    "<h3>Question 5: Explain the concept of type casting in Python with examples.</h3>"
   ]
  },
  {
   "cell_type": "markdown",
   "metadata": {},
   "source": [
    "<b>Type Casting in Python</b>\n",
    "\n",
    "Type casting refers to the process of converting one data type to another. Python provides built-in functions to convert between different data types, which is useful when performing operations that require specific types.\n",
    "\n",
    "There are two types of type casting:\n",
    "\n",
    "* Implicit Type Casting\n",
    "* Explicit Type Casting"
   ]
  },
  {
   "cell_type": "markdown",
   "metadata": {},
   "source": [
    "<b>1. Implicit Type Casting</b>\n",
    "\n",
    "In implicit type casting, Python automatically converts one data type to another without explicit instructions from the user. This usually happens when Python needs to ensure that operations between different types work correctly."
   ]
  },
  {
   "cell_type": "code",
   "execution_count": 14,
   "metadata": {},
   "outputs": [
    {
     "name": "stdout",
     "output_type": "stream",
     "text": [
      "7.5\n",
      "<class 'float'>\n"
     ]
    }
   ],
   "source": [
    "x = 5    # Integer\n",
    "y = 2.5  # Float\n",
    "\n",
    "result = x + y\n",
    "print(result)      # Output: 7.5\n",
    "print(type(result))  # Output: <class 'float'>\n",
    "\n",
    "# In this example, Python automatically converts the integer x to a float to perform the addition with y. The result is a float."
   ]
  },
  {
   "cell_type": "markdown",
   "metadata": {},
   "source": [
    "<b>2. Explicit Type Casting</b>\n",
    "\n",
    "In explicit type casting, you manually convert one data type to another using Python's built-in type conversion functions like int(), float(), str(), etc.\n",
    "\n",
    "Common Type Casting Functions:\n",
    "* int() : Converts a value to an integer.\n",
    "* float() : Converts a value to a floating-point number.\n",
    "* str() : Converts a value to a string.\n",
    "* list() : Converts a value to a list.\n",
    "* tuple() : Converts a value to a tuple."
   ]
  },
  {
   "cell_type": "code",
   "execution_count": 15,
   "metadata": {},
   "outputs": [
    {
     "name": "stdout",
     "output_type": "stream",
     "text": [
      "5.0\n",
      "<class 'float'>\n"
     ]
    }
   ],
   "source": [
    "x = 5    # Integer\n",
    "y = float(x)  # Explicit type casting to float\n",
    "\n",
    "print(y)         # Output: 5.0\n",
    "print(type(y))   # Output: <class 'float'>"
   ]
  },
  {
   "cell_type": "markdown",
   "metadata": {},
   "source": [
    "<b>Why Type Casting is Useful?</b>\n",
    "\n",
    "Mathematical Operations: Sometimes different types (e.g., integers and floats) need to be operated on together. Type casting ensures compatibility.\n",
    "\n",
    "Input Handling: User input in Python is always received as a string, even if the input is numeric. Converting it into an integer or float is necessary for numerical operations."
   ]
  },
  {
   "cell_type": "code",
   "execution_count": 16,
   "metadata": {},
   "outputs": [
    {
     "name": "stdout",
     "output_type": "stream",
     "text": [
      "17\n"
     ]
    }
   ],
   "source": [
    "age = input(\"Enter your age: \")  # Input is a string\n",
    "age = int(age)  # Convert to integer\n",
    "print(age + 5)  # Performs addition as integers\n",
    "\n",
    "# Without casting, trying to add a string and an integer would cause an error."
   ]
  },
  {
   "cell_type": "markdown",
   "metadata": {},
   "source": [
    "<h3>Question 6: How do conditional statements work in Python? Illustrate with examples.</h3>"
   ]
  },
  {
   "cell_type": "markdown",
   "metadata": {},
   "source": [
    "<b>Conditional Statements in Python</b>\n",
    "\n",
    "Conditional statements in Python allow you to execute specific blocks of code based on whether a condition is true or false. These statements help in decision-making by checking conditions using comparison or logical operations.\n",
    "\n",
    "Python supports the following conditional statements:\n",
    "\n",
    "* if statement\n",
    "* if-else statement\n",
    "* if-elif-else statement\n",
    "* Nested if statement"
   ]
  },
  {
   "cell_type": "markdown",
   "metadata": {},
   "source": [
    "<b>1. The if Statement</b>\n",
    "\n",
    "The if statement executes a block of code only if a specific condition is true. If the condition is false, the code inside the if block is skipped."
   ]
  },
  {
   "cell_type": "code",
   "execution_count": 17,
   "metadata": {},
   "outputs": [
    {
     "name": "stdout",
     "output_type": "stream",
     "text": [
      "You are eligible to vote.\n"
     ]
    }
   ],
   "source": [
    "age = 18\n",
    "\n",
    "if age >= 18:\n",
    "    print(\"You are eligible to vote.\")"
   ]
  },
  {
   "cell_type": "markdown",
   "metadata": {},
   "source": [
    "<b>2. The if-else Statement</b>\n",
    "\n",
    "The if-else statement adds an alternative block of code to execute if the condition is false."
   ]
  },
  {
   "cell_type": "code",
   "execution_count": 18,
   "metadata": {},
   "outputs": [
    {
     "name": "stdout",
     "output_type": "stream",
     "text": [
      "You are not eligible to vote.\n"
     ]
    }
   ],
   "source": [
    "age = 16\n",
    "\n",
    "if age >= 18:\n",
    "    print(\"You are eligible to vote.\")\n",
    "else:\n",
    "    print(\"You are not eligible to vote.\")"
   ]
  },
  {
   "cell_type": "markdown",
   "metadata": {},
   "source": [
    "<b>3. The if-elif-else Statement</b>\n",
    "\n",
    "The if-elif-else statement allows checking multiple conditions. If the first condition is false, Python will check the next condition (elif). If no conditions are true, the else block is executed."
   ]
  },
  {
   "cell_type": "code",
   "execution_count": 19,
   "metadata": {},
   "outputs": [
    {
     "name": "stdout",
     "output_type": "stream",
     "text": [
      "Grade: B\n"
     ]
    }
   ],
   "source": [
    "marks = 85\n",
    "\n",
    "if marks >= 90:\n",
    "    print(\"Grade: A\")\n",
    "elif marks >= 75:\n",
    "    print(\"Grade: B\")\n",
    "else:\n",
    "    print(\"Grade: C\")"
   ]
  },
  {
   "cell_type": "markdown",
   "metadata": {},
   "source": [
    "<b>4. Nested if Statements</b>\n",
    "\n",
    "You can also nest if statements inside another if statement. This allows you to check for conditions inside other conditions."
   ]
  },
  {
   "cell_type": "code",
   "execution_count": 20,
   "metadata": {},
   "outputs": [
    {
     "name": "stdout",
     "output_type": "stream",
     "text": [
      "You are eligible to vote.\n"
     ]
    }
   ],
   "source": [
    "age = 20\n",
    "has_voter_id = True\n",
    "\n",
    "if age >= 18:\n",
    "    if has_voter_id:\n",
    "        print(\"You are eligible to vote.\")\n",
    "    else:\n",
    "        print(\"You need a voter ID to vote.\")\n",
    "else:\n",
    "    print(\"You are not eligible to vote.\")"
   ]
  },
  {
   "cell_type": "markdown",
   "metadata": {},
   "source": [
    "<h3>Question 7: Describe the different types of loops in Python and their use cases with examples.</h3>"
   ]
  },
  {
   "cell_type": "markdown",
   "metadata": {},
   "source": [
    "<b>Types of Loops in Python</b>\n",
    "\n",
    "Python provides two main types of loops:\n",
    "\n",
    "* for loop: Used for iterating over sequences (like lists, tuples, strings, etc.) or performing a specific number of iterations.\n",
    "* while loop: Repeats a block of code as long as a given condition is true.\n",
    "\n",
    "Both loops can be controlled using break, continue, and else statements."
   ]
  },
  {
   "cell_type": "markdown",
   "metadata": {},
   "source": [
    "<b>1. The for Loop</b>\n",
    "\n",
    "The for loop in Python is used to iterate over a sequence (list, tuple, dictionary, string, or range) and execute a block of code for each element in the sequence."
   ]
  },
  {
   "cell_type": "code",
   "execution_count": 21,
   "metadata": {},
   "outputs": [
    {
     "name": "stdout",
     "output_type": "stream",
     "text": [
      "apple\n",
      "banana\n",
      "cherry\n"
     ]
    }
   ],
   "source": [
    "fruits = [\"apple\", \"banana\", \"cherry\"]\n",
    "\n",
    "for fruit in fruits:\n",
    "    print(fruit)"
   ]
  },
  {
   "cell_type": "markdown",
   "metadata": {},
   "source": [
    "<b>2. The while Loop</b>\n",
    "\n",
    "The while loop is used to repeat a block of code as long as a condition is True. It’s ideal for situations where you don’t know the number of iterations in advance but want to stop when a condition becomes false."
   ]
  },
  {
   "cell_type": "code",
   "execution_count": 22,
   "metadata": {},
   "outputs": [
    {
     "name": "stdout",
     "output_type": "stream",
     "text": [
      "Counter: 0\n",
      "Counter: 1\n",
      "Counter: 2\n",
      "Counter: 3\n",
      "Counter: 4\n"
     ]
    }
   ],
   "source": [
    "counter = 0\n",
    "\n",
    "while counter < 5:\n",
    "    print(\"Counter:\", counter)\n",
    "    counter += 1"
   ]
  },
  {
   "cell_type": "markdown",
   "metadata": {},
   "source": [
    "Use Cases of while Loop:\n",
    "* Repeating code until a certain condition is met.\n",
    "* Useful when the number of iterations is not predetermined (e.g., reading user input until a valid response is given)."
   ]
  },
  {
   "cell_type": "markdown",
   "metadata": {},
   "source": [
    "<b>3. Control Statements in Loops</b>\n",
    "\n",
    "<b>break</b> Statement:\n",
    "Used to exit the loop prematurely, even if the loop condition is still true."
   ]
  },
  {
   "cell_type": "code",
   "execution_count": 23,
   "metadata": {},
   "outputs": [
    {
     "name": "stdout",
     "output_type": "stream",
     "text": [
      "0\n",
      "1\n",
      "2\n",
      "3\n",
      "4\n"
     ]
    }
   ],
   "source": [
    "for i in range(10):\n",
    "    if i == 5:\n",
    "        break  # Exit the loop when i equals 5\n",
    "    print(i)"
   ]
  },
  {
   "cell_type": "markdown",
   "metadata": {},
   "source": [
    "<b>continue</b> Statement:\n",
    "Skips the current iteration and moves on to the next iteration of the loop."
   ]
  },
  {
   "cell_type": "code",
   "execution_count": 24,
   "metadata": {},
   "outputs": [
    {
     "name": "stdout",
     "output_type": "stream",
     "text": [
      "0\n",
      "1\n",
      "2\n",
      "4\n"
     ]
    }
   ],
   "source": [
    "for i in range(5):\n",
    "    if i == 3:\n",
    "        continue  # Skip when i equals 3\n",
    "    print(i)"
   ]
  },
  {
   "cell_type": "markdown",
   "metadata": {},
   "source": [
    "<b>else with Loops:</b>\n",
    "The else block in a loop executes after the loop finishes all iterations, unless the loop is terminated with break."
   ]
  },
  {
   "cell_type": "code",
   "execution_count": 25,
   "metadata": {},
   "outputs": [
    {
     "name": "stdout",
     "output_type": "stream",
     "text": [
      "0\n",
      "1\n",
      "2\n",
      "Loop finished\n"
     ]
    }
   ],
   "source": [
    "for i in range(3):\n",
    "    print(i)\n",
    "else:\n",
    "    print(\"Loop finished\")"
   ]
  },
  {
   "cell_type": "code",
   "execution_count": 26,
   "metadata": {},
   "outputs": [
    {
     "name": "stdout",
     "output_type": "stream",
     "text": [
      "0\n"
     ]
    }
   ],
   "source": [
    "# If the loop is terminated by break, the else block is skipped:\n",
    "\n",
    "for i in range(3):\n",
    "    if i == 1:\n",
    "        break\n",
    "    print(i)\n",
    "else:\n",
    "    print(\"Loop finished\")"
   ]
  },
  {
   "cell_type": "markdown",
   "metadata": {},
   "source": [
    "<b>4. Nested Loops</b>\n",
    "\n",
    "You can nest one loop inside another. The inner loop will complete all iterations before the outer loop proceeds to its next iteration."
   ]
  },
  {
   "cell_type": "code",
   "execution_count": 27,
   "metadata": {},
   "outputs": [
    {
     "name": "stdout",
     "output_type": "stream",
     "text": [
      "i = 0, j = 0\n",
      "i = 0, j = 1\n",
      "i = 1, j = 0\n",
      "i = 1, j = 1\n",
      "i = 2, j = 0\n",
      "i = 2, j = 1\n"
     ]
    }
   ],
   "source": [
    "for i in range(3):  # Outer loop\n",
    "    for j in range(2):  # Inner loop\n",
    "        print(f\"i = {i}, j = {j}\")"
   ]
  },
  {
   "cell_type": "markdown",
   "metadata": {},
   "source": [
    "Use Cases:\n",
    "* Processing multidimensional arrays or matrices.\n",
    "* Handling nested data structures like lists of lists."
   ]
  },
  {
   "cell_type": "markdown",
   "metadata": {},
   "source": [
    "Conclusion\n",
    "\n",
    "* for loops are ideal for iterating over a sequence or when the number of iterations is known in advance.\n",
    "* while loops are best when you want to repeat code until a specific condition is met.\n",
    "* Control statements like break and continue allow you to manage the flow of loops, and the else block adds flexibility for post-loop actions.\n",
    "\n",
    "Understanding how to use these loops and control statements helps in managing repetitive tasks and making your code more efficient."
   ]
  }
 ],
 "metadata": {
  "kernelspec": {
   "display_name": "Python 3",
   "language": "python",
   "name": "python3"
  },
  "language_info": {
   "codemirror_mode": {
    "name": "ipython",
    "version": 3
   },
   "file_extension": ".py",
   "mimetype": "text/x-python",
   "name": "python",
   "nbconvert_exporter": "python",
   "pygments_lexer": "ipython3",
   "version": "3.12.5"
  }
 },
 "nbformat": 4,
 "nbformat_minor": 2
}
